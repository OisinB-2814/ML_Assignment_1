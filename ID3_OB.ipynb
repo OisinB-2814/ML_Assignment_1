{
 "cells": [
  {
   "cell_type": "markdown",
   "metadata": {},
   "source": [
    "# Assignment 1 Machine Learning\n",
    "\n",
    "## Oisin Brannock"
   ]
  },
  {
   "cell_type": "markdown",
   "metadata": {},
   "source": [
    "1. Import the relevant packages"
   ]
  },
  {
   "cell_type": "code",
   "execution_count": 2,
   "metadata": {},
   "outputs": [],
   "source": [
    "from id3 import Id3Estimator, export_graphviz, export_text\n",
    "import pandas as pd\n",
    "import numpy as np\n",
    "from sklearn.metrics import confusion_matrix, classification_report, accuracy_score\n",
    "from IPython.display import Image \n",
    "import warnings\n",
    "warnings.filterwarnings('ignore')"
   ]
  },
  {
   "cell_type": "markdown",
   "metadata": {},
   "source": [
    "2. Import and tidy up the training dataset"
   ]
  },
  {
   "cell_type": "code",
   "execution_count": 3,
   "metadata": {},
   "outputs": [],
   "source": [
    "cols = ['calorific_value', 'nitrogen', 'turbidity', 'style', 'alcohol', 'sugars', 'bitterness', 'beer_id', 'colour', 'degree_of_fermentation']\n",
    "\n",
    "beers_train = pd.read_table(\"C:/Users/Oisin/Desktop/ML Assignment 1/Data/beer_training.txt\",\n",
    "                           names = cols,\n",
    "                           index_col = 'beer_id')\n",
    "\n",
    "beers_train = beers_train[['style', 'calorific_value', 'nitrogen', 'turbidity', 'alcohol', 'sugars', 'bitterness', 'colour', 'degree_of_fermentation']]\n",
    "\n",
    "beers_train = beers_train.sort_values('style')"
   ]
  },
  {
   "cell_type": "markdown",
   "metadata": {},
   "source": [
    "3. Specify which columns will be used as independent variables"
   ]
  },
  {
   "cell_type": "code",
   "execution_count": 4,
   "metadata": {},
   "outputs": [],
   "source": [
    "feature_cols = ['calorific_value', 'nitrogen', 'turbidity', 'alcohol', 'sugars', 'bitterness', 'colour', 'degree_of_fermentation']"
   ]
  },
  {
   "cell_type": "markdown",
   "metadata": {},
   "source": [
    "4. Import in test data in similar manner to training data and clean"
   ]
  },
  {
   "cell_type": "code",
   "execution_count": 5,
   "metadata": {},
   "outputs": [],
   "source": [
    "beers_test = pd.read_table(\"C://Users/Oisin/Desktop/ML Assignment 1/Data/beer_test.txt\",\n",
    "                           names = cols,\n",
    "                           index_col = 'beer_id')\n",
    "\n",
    "beers_test = beers_test[['style', 'calorific_value', 'nitrogen', 'turbidity', 'alcohol', 'sugars', 'bitterness', 'colour', 'degree_of_fermentation']]\n",
    "\n",
    "beers_test = beers_test.sort_values('style')"
   ]
  },
  {
   "cell_type": "markdown",
   "metadata": {},
   "source": [
    "5. For the ID3 package chosen, the data needs to be in numpy array format so conversion from dataframe is done here"
   ]
  },
  {
   "cell_type": "code",
   "execution_count": 6,
   "metadata": {},
   "outputs": [],
   "source": [
    "x_train = beers_train[feature_cols]\n",
    "x_train = x_train.to_numpy()\n",
    "\n",
    "y_train = beers_train['style']\n",
    "y_train = y_train.to_numpy()\n",
    "\n",
    "x_test = beers_test[feature_cols]\n",
    "x_test = x_test.to_numpy()\n",
    "\n",
    "y_test = beers_test['style']\n",
    "y_test = y_test.to_numpy()"
   ]
  },
  {
   "cell_type": "code",
   "execution_count": 7,
   "metadata": {},
   "outputs": [
    {
     "data": {
      "text/plain": [
       "array([[45.30530973,  0.45954818,  1.91727273,  4.22769231, 16.67      ,\n",
       "        12.56894737, 11.04      , 62.17857143],\n",
       "       [45.03982301,  0.53217163,  1.75636364,  4.32615385, 17.15      ,\n",
       "        11.62310526, 12.72      , 70.87      ],\n",
       "       [40.21681416,  0.50528541,  1.35545454,  4.12      , 16.77      ,\n",
       "        13.74557895, 11.04      , 70.88285714]])"
      ]
     },
     "execution_count": 7,
     "metadata": {},
     "output_type": "execute_result"
    }
   ],
   "source": [
    "x_train[0:3]"
   ]
  },
  {
   "cell_type": "code",
   "execution_count": 8,
   "metadata": {},
   "outputs": [
    {
     "data": {
      "text/plain": [
       "array(['ale', 'ale', 'ale'], dtype=object)"
      ]
     },
     "execution_count": 8,
     "metadata": {},
     "output_type": "execute_result"
    }
   ],
   "source": [
    "y_train[0:3]"
   ]
  },
  {
   "cell_type": "markdown",
   "metadata": {},
   "source": [
    "6. Train the decision tree algorithm using ID3"
   ]
  },
  {
   "cell_type": "code",
   "execution_count": 9,
   "metadata": {},
   "outputs": [],
   "source": [
    "clf = Id3Estimator()"
   ]
  },
  {
   "cell_type": "code",
   "execution_count": 10,
   "metadata": {},
   "outputs": [
    {
     "data": {
      "text/plain": [
       "Id3Estimator(gain_ratio=False, is_repeating=False, max_depth=None,\n",
       "             min_entropy_decrease=0.0, min_samples_split=2, prune=False)"
      ]
     },
     "execution_count": 10,
     "metadata": {},
     "output_type": "execute_result"
    }
   ],
   "source": [
    "clf.fit(x_train,y_train,check_input=True)"
   ]
  },
  {
   "cell_type": "code",
   "execution_count": 11,
   "metadata": {},
   "outputs": [
    {
     "name": "stdout",
     "output_type": "stream",
     "text": [
      "\n",
      "colour <=9.42\n",
      "|   bitterness <=9.67: stout (33) \n",
      "|   bitterness >9.67: lager (2) \n",
      "colour >9.42\n",
      "|   alcohol <=3.93: lager (38) \n",
      "|   alcohol >3.93\n",
      "|   |   bitterness <=8.23\n",
      "|   |   |   calorific_value <=41.72: stout (5) \n",
      "|   |   |   calorific_value >41.72: lager (2) \n",
      "|   |   bitterness >8.23\n",
      "|   |   |   turbidity <=1.27\n",
      "|   |   |   |   sugars <=16.74: lager (2) \n",
      "|   |   |   |   sugars >16.74: ale (4) \n",
      "|   |   |   turbidity >1.27: ale (38) \n",
      "\n"
     ]
    }
   ],
   "source": [
    "print(export_text(clf.tree_, feature_cols))"
   ]
  },
  {
   "cell_type": "markdown",
   "metadata": {},
   "source": [
    "7. Check accuracy of our model on the training and test datasets by creating confusion matrices and a report for each "
   ]
  },
  {
   "cell_type": "code",
   "execution_count": 12,
   "metadata": {},
   "outputs": [],
   "source": [
    "y_pred_train = clf.predict(x_train)"
   ]
  },
  {
   "cell_type": "code",
   "execution_count": 13,
   "metadata": {},
   "outputs": [
    {
     "data": {
      "text/plain": [
       "array(['ale', 'ale', 'ale', 'ale', 'ale', 'ale', 'ale', 'ale', 'ale',\n",
       "       'ale', 'ale', 'ale', 'ale', 'ale', 'ale', 'ale', 'ale', 'ale',\n",
       "       'ale', 'ale', 'ale', 'ale', 'ale', 'ale', 'ale', 'ale', 'ale',\n",
       "       'ale', 'ale', 'ale', 'ale', 'ale', 'ale', 'ale', 'ale', 'ale',\n",
       "       'ale', 'ale', 'ale', 'ale', 'ale', 'ale', 'lager', 'lager',\n",
       "       'lager', 'lager', 'lager', 'lager', 'lager', 'lager', 'lager',\n",
       "       'lager', 'lager', 'lager', 'lager', 'lager', 'lager', 'lager',\n",
       "       'lager', 'lager', 'lager', 'lager', 'lager', 'lager', 'lager',\n",
       "       'lager', 'lager', 'lager', 'lager', 'lager', 'lager', 'lager',\n",
       "       'lager', 'lager', 'lager', 'lager', 'lager', 'lager', 'lager',\n",
       "       'lager', 'lager', 'lager', 'lager', 'lager', 'lager', 'lager',\n",
       "       'stout', 'stout', 'stout', 'stout', 'stout', 'stout', 'stout',\n",
       "       'stout', 'stout', 'stout', 'stout', 'stout', 'stout', 'stout',\n",
       "       'stout', 'stout', 'stout', 'stout', 'stout', 'stout', 'stout',\n",
       "       'stout', 'stout', 'stout', 'stout', 'stout', 'stout', 'stout',\n",
       "       'stout', 'stout', 'stout', 'stout', 'stout', 'stout', 'stout',\n",
       "       'stout', 'stout', 'stout'], dtype=object)"
      ]
     },
     "execution_count": 13,
     "metadata": {},
     "output_type": "execute_result"
    }
   ],
   "source": [
    "y_pred_train"
   ]
  },
  {
   "cell_type": "code",
   "execution_count": 14,
   "metadata": {},
   "outputs": [
    {
     "data": {
      "text/plain": [
       "array(['ale', 'ale', 'ale', 'ale', 'ale', 'ale', 'ale', 'ale', 'ale',\n",
       "       'ale', 'ale', 'ale', 'ale', 'ale', 'ale', 'ale', 'ale', 'ale',\n",
       "       'ale', 'ale', 'ale', 'ale', 'ale', 'ale', 'ale', 'ale', 'ale',\n",
       "       'ale', 'ale', 'ale', 'ale', 'ale', 'ale', 'ale', 'ale', 'ale',\n",
       "       'ale', 'ale', 'ale', 'ale', 'ale', 'ale', 'lager', 'lager',\n",
       "       'lager', 'lager', 'lager', 'lager', 'lager', 'lager', 'lager',\n",
       "       'lager', 'lager', 'lager', 'lager', 'lager', 'lager', 'lager',\n",
       "       'lager', 'lager', 'lager', 'lager', 'lager', 'lager', 'lager',\n",
       "       'lager', 'lager', 'lager', 'lager', 'lager', 'lager', 'lager',\n",
       "       'lager', 'lager', 'lager', 'lager', 'lager', 'lager', 'lager',\n",
       "       'lager', 'lager', 'lager', 'lager', 'lager', 'lager', 'lager',\n",
       "       'stout', 'stout', 'stout', 'stout', 'stout', 'stout', 'stout',\n",
       "       'stout', 'stout', 'stout', 'stout', 'stout', 'stout', 'stout',\n",
       "       'stout', 'stout', 'stout', 'stout', 'stout', 'stout', 'stout',\n",
       "       'stout', 'stout', 'stout', 'stout', 'stout', 'stout', 'stout',\n",
       "       'stout', 'stout', 'stout', 'stout', 'stout', 'stout', 'stout',\n",
       "       'stout', 'stout', 'stout'], dtype=object)"
      ]
     },
     "execution_count": 14,
     "metadata": {},
     "output_type": "execute_result"
    }
   ],
   "source": [
    "y_train"
   ]
  },
  {
   "cell_type": "code",
   "execution_count": 15,
   "metadata": {},
   "outputs": [
    {
     "data": {
      "text/plain": [
       "array([ True,  True,  True,  True,  True,  True,  True,  True,  True,\n",
       "        True,  True,  True,  True,  True,  True,  True,  True,  True,\n",
       "        True,  True,  True,  True,  True,  True,  True,  True,  True,\n",
       "        True,  True,  True,  True,  True,  True,  True,  True,  True,\n",
       "        True,  True,  True,  True,  True,  True,  True,  True,  True,\n",
       "        True,  True,  True,  True,  True,  True,  True,  True,  True,\n",
       "        True,  True,  True,  True,  True,  True,  True,  True,  True,\n",
       "        True,  True,  True,  True,  True,  True,  True,  True,  True,\n",
       "        True,  True,  True,  True,  True,  True,  True,  True,  True,\n",
       "        True,  True,  True,  True,  True,  True,  True,  True,  True,\n",
       "        True,  True,  True,  True,  True,  True,  True,  True,  True,\n",
       "        True,  True,  True,  True,  True,  True,  True,  True,  True,\n",
       "        True,  True,  True,  True,  True,  True,  True,  True,  True,\n",
       "        True,  True,  True,  True,  True,  True,  True])"
      ]
     },
     "execution_count": 15,
     "metadata": {},
     "output_type": "execute_result"
    }
   ],
   "source": [
    "y_train == y_pred_train"
   ]
  },
  {
   "cell_type": "code",
   "execution_count": 16,
   "metadata": {},
   "outputs": [],
   "source": [
    "y_train_list = y_train.tolist()"
   ]
  },
  {
   "cell_type": "code",
   "execution_count": 17,
   "metadata": {},
   "outputs": [],
   "source": [
    "y_pred_train_list = y_pred_train.tolist()"
   ]
  },
  {
   "cell_type": "code",
   "execution_count": 18,
   "metadata": {},
   "outputs": [
    {
     "data": {
      "text/plain": [
       "array([[42,  0,  0],\n",
       "       [ 0, 44,  0],\n",
       "       [ 0,  0, 38]], dtype=int64)"
      ]
     },
     "execution_count": 18,
     "metadata": {},
     "output_type": "execute_result"
    }
   ],
   "source": [
    "confusion_matrix(y_train_list,y_pred_train_list)"
   ]
  },
  {
   "cell_type": "code",
   "execution_count": 19,
   "metadata": {},
   "outputs": [
    {
     "data": {
      "text/html": [
       "<div>\n",
       "<style scoped>\n",
       "    .dataframe tbody tr th:only-of-type {\n",
       "        vertical-align: middle;\n",
       "    }\n",
       "\n",
       "    .dataframe tbody tr th {\n",
       "        vertical-align: top;\n",
       "    }\n",
       "\n",
       "    .dataframe thead th {\n",
       "        text-align: right;\n",
       "    }\n",
       "</style>\n",
       "<table border=\"1\" class=\"dataframe\">\n",
       "  <thead>\n",
       "    <tr style=\"text-align: right;\">\n",
       "      <th></th>\n",
       "      <th>precision</th>\n",
       "      <th>recall</th>\n",
       "      <th>f1-score</th>\n",
       "      <th>support</th>\n",
       "    </tr>\n",
       "  </thead>\n",
       "  <tbody>\n",
       "    <tr>\n",
       "      <th>ale</th>\n",
       "      <td>1.0</td>\n",
       "      <td>1.0</td>\n",
       "      <td>1.0</td>\n",
       "      <td>42.0</td>\n",
       "    </tr>\n",
       "    <tr>\n",
       "      <th>lager</th>\n",
       "      <td>1.0</td>\n",
       "      <td>1.0</td>\n",
       "      <td>1.0</td>\n",
       "      <td>44.0</td>\n",
       "    </tr>\n",
       "    <tr>\n",
       "      <th>stout</th>\n",
       "      <td>1.0</td>\n",
       "      <td>1.0</td>\n",
       "      <td>1.0</td>\n",
       "      <td>38.0</td>\n",
       "    </tr>\n",
       "    <tr>\n",
       "      <th>accuracy</th>\n",
       "      <td>1.0</td>\n",
       "      <td>1.0</td>\n",
       "      <td>1.0</td>\n",
       "      <td>1.0</td>\n",
       "    </tr>\n",
       "    <tr>\n",
       "      <th>macro avg</th>\n",
       "      <td>1.0</td>\n",
       "      <td>1.0</td>\n",
       "      <td>1.0</td>\n",
       "      <td>124.0</td>\n",
       "    </tr>\n",
       "    <tr>\n",
       "      <th>weighted avg</th>\n",
       "      <td>1.0</td>\n",
       "      <td>1.0</td>\n",
       "      <td>1.0</td>\n",
       "      <td>124.0</td>\n",
       "    </tr>\n",
       "  </tbody>\n",
       "</table>\n",
       "</div>"
      ],
      "text/plain": [
       "              precision  recall  f1-score  support\n",
       "ale                 1.0     1.0       1.0     42.0\n",
       "lager               1.0     1.0       1.0     44.0\n",
       "stout               1.0     1.0       1.0     38.0\n",
       "accuracy            1.0     1.0       1.0      1.0\n",
       "macro avg           1.0     1.0       1.0    124.0\n",
       "weighted avg        1.0     1.0       1.0    124.0"
      ]
     },
     "execution_count": 19,
     "metadata": {},
     "output_type": "execute_result"
    }
   ],
   "source": [
    "report_train = classification_report(y_train, y_pred_train, output_dict=True)\n",
    "train_report = pd.DataFrame(report_train).transpose()\n",
    "train_report"
   ]
  },
  {
   "cell_type": "code",
   "execution_count": 20,
   "metadata": {},
   "outputs": [],
   "source": [
    "y_pred = clf.predict(x_test)"
   ]
  },
  {
   "cell_type": "code",
   "execution_count": 21,
   "metadata": {},
   "outputs": [
    {
     "data": {
      "text/plain": [
       "array(['ale', 'ale', 'ale', 'ale', 'ale', 'ale', 'ale', 'ale', 'ale',\n",
       "       'ale', 'lager', 'lager', 'lager', 'lager', 'lager', 'lager',\n",
       "       'lager', 'lager', 'lager', 'lager', 'stout', 'stout', 'stout',\n",
       "       'stout', 'stout', 'stout', 'stout', 'stout', 'stout', 'stout'],\n",
       "      dtype=object)"
      ]
     },
     "execution_count": 21,
     "metadata": {},
     "output_type": "execute_result"
    }
   ],
   "source": [
    "y_test"
   ]
  },
  {
   "cell_type": "code",
   "execution_count": 22,
   "metadata": {},
   "outputs": [
    {
     "data": {
      "text/plain": [
       "array([ True,  True,  True,  True,  True, False,  True,  True,  True,\n",
       "        True,  True, False,  True,  True, False,  True, False,  True,\n",
       "        True,  True,  True, False,  True,  True,  True,  True,  True,\n",
       "        True, False,  True])"
      ]
     },
     "execution_count": 22,
     "metadata": {},
     "output_type": "execute_result"
    }
   ],
   "source": [
    "y_test == clf.predict(x_test)"
   ]
  },
  {
   "cell_type": "code",
   "execution_count": 23,
   "metadata": {},
   "outputs": [],
   "source": [
    "y_test_list = y_test.tolist()"
   ]
  },
  {
   "cell_type": "code",
   "execution_count": 24,
   "metadata": {},
   "outputs": [],
   "source": [
    "y_pred_list = y_pred.tolist()"
   ]
  },
  {
   "cell_type": "code",
   "execution_count": 25,
   "metadata": {},
   "outputs": [
    {
     "data": {
      "text/plain": [
       "array([[9, 1, 0],\n",
       "       [2, 7, 1],\n",
       "       [0, 2, 8]], dtype=int64)"
      ]
     },
     "execution_count": 25,
     "metadata": {},
     "output_type": "execute_result"
    }
   ],
   "source": [
    "confusion_matrix(y_test_list,y_pred_list)"
   ]
  },
  {
   "cell_type": "code",
   "execution_count": 26,
   "metadata": {},
   "outputs": [
    {
     "data": {
      "text/html": [
       "<div>\n",
       "<style scoped>\n",
       "    .dataframe tbody tr th:only-of-type {\n",
       "        vertical-align: middle;\n",
       "    }\n",
       "\n",
       "    .dataframe tbody tr th {\n",
       "        vertical-align: top;\n",
       "    }\n",
       "\n",
       "    .dataframe thead th {\n",
       "        text-align: right;\n",
       "    }\n",
       "</style>\n",
       "<table border=\"1\" class=\"dataframe\">\n",
       "  <thead>\n",
       "    <tr style=\"text-align: right;\">\n",
       "      <th></th>\n",
       "      <th>precision</th>\n",
       "      <th>recall</th>\n",
       "      <th>f1-score</th>\n",
       "      <th>support</th>\n",
       "    </tr>\n",
       "  </thead>\n",
       "  <tbody>\n",
       "    <tr>\n",
       "      <th>ale</th>\n",
       "      <td>0.818182</td>\n",
       "      <td>0.9</td>\n",
       "      <td>0.857143</td>\n",
       "      <td>10.0</td>\n",
       "    </tr>\n",
       "    <tr>\n",
       "      <th>lager</th>\n",
       "      <td>0.700000</td>\n",
       "      <td>0.7</td>\n",
       "      <td>0.700000</td>\n",
       "      <td>10.0</td>\n",
       "    </tr>\n",
       "    <tr>\n",
       "      <th>stout</th>\n",
       "      <td>0.888889</td>\n",
       "      <td>0.8</td>\n",
       "      <td>0.842105</td>\n",
       "      <td>10.0</td>\n",
       "    </tr>\n",
       "    <tr>\n",
       "      <th>accuracy</th>\n",
       "      <td>0.800000</td>\n",
       "      <td>0.8</td>\n",
       "      <td>0.800000</td>\n",
       "      <td>0.8</td>\n",
       "    </tr>\n",
       "    <tr>\n",
       "      <th>macro avg</th>\n",
       "      <td>0.802357</td>\n",
       "      <td>0.8</td>\n",
       "      <td>0.799749</td>\n",
       "      <td>30.0</td>\n",
       "    </tr>\n",
       "    <tr>\n",
       "      <th>weighted avg</th>\n",
       "      <td>0.802357</td>\n",
       "      <td>0.8</td>\n",
       "      <td>0.799749</td>\n",
       "      <td>30.0</td>\n",
       "    </tr>\n",
       "  </tbody>\n",
       "</table>\n",
       "</div>"
      ],
      "text/plain": [
       "              precision  recall  f1-score  support\n",
       "ale            0.818182     0.9  0.857143     10.0\n",
       "lager          0.700000     0.7  0.700000     10.0\n",
       "stout          0.888889     0.8  0.842105     10.0\n",
       "accuracy       0.800000     0.8  0.800000      0.8\n",
       "macro avg      0.802357     0.8  0.799749     30.0\n",
       "weighted avg   0.802357     0.8  0.799749     30.0"
      ]
     },
     "execution_count": 26,
     "metadata": {},
     "output_type": "execute_result"
    }
   ],
   "source": [
    "report_test = classification_report(y_test, y_pred, output_dict=True)\n",
    "test_report = pd.DataFrame(report_test).transpose()\n",
    "test_report"
   ]
  },
  {
   "cell_type": "code",
   "execution_count": 27,
   "metadata": {},
   "outputs": [
    {
     "data": {
      "text/plain": [
       "0.8"
      ]
     },
     "execution_count": 27,
     "metadata": {},
     "output_type": "execute_result"
    }
   ],
   "source": [
    "accuracy_score(y_test, y_pred)"
   ]
  },
  {
   "cell_type": "markdown",
   "metadata": {},
   "source": [
    "8. Plot the ID3 tree alogorthm and use gvedit to convert from dot file to png"
   ]
  },
  {
   "cell_type": "code",
   "execution_count": 28,
   "metadata": {},
   "outputs": [
    {
     "data": {
      "text/plain": [
       "<_io.TextIOWrapper name='id3.dot' mode='w' encoding='utf8'>"
      ]
     },
     "execution_count": 28,
     "metadata": {},
     "output_type": "execute_result"
    }
   ],
   "source": [
    "export_graphviz(clf.tree_, \"id3.dot\", feature_cols)"
   ]
  },
  {
   "cell_type": "markdown",
   "metadata": {},
   "source": [
    "# Then used graphviz.exe to produce the plot as png as shown:\n"
   ]
  },
  {
   "cell_type": "code",
   "execution_count": 29,
   "metadata": {},
   "outputs": [
    {
     "data": {
      "image/png": "[encoded data removed]",
      "text/plain": [
       "<IPython.core.display.Image object>"
      ]
     },
     "execution_count": 29,
     "metadata": {},
     "output_type": "execute_result"
    }
   ],
   "source": [
    "Image(\"C:/Users/Oisin/Downloads/id3.png\")"
   ]
  },
  {
   "cell_type": "code",
   "execution_count": null,
   "metadata": {},
   "outputs": [],
   "source": []
  }
 ],
 "metadata": {
  "kernelspec": {
   "display_name": "Python 3",
   "language": "python",
   "name": "python3"
  },
  "language_info": {
   "codemirror_mode": {
    "name": "ipython",
    "version": 3
   },
   "file_extension": ".py",
   "mimetype": "text/x-python",
   "name": "python",
   "nbconvert_exporter": "python",
   "pygments_lexer": "ipython3",
   "version": "3.8.5"
  }
 },
 "nbformat": 4,
 "nbformat_minor": 4
}
